{
 "cells": [
  {
   "cell_type": "markdown",
   "metadata": {},
   "source": [
    "### Xueyan Zhang\n",
    "### Assignment 15\n",
    "### 12/4/2021\n",
    "</br>\n",
    "This notebook is to build an autoregressive linear model to predict flow next week."
   ]
  },
  {
   "cell_type": "code",
   "execution_count": 1,
   "metadata": {},
   "outputs": [
    {
     "name": "stdout",
     "output_type": "stream",
     "text": [
      "coefficient of determination: 0.33\n",
      "intercept: 129.58\n",
      "slope: [0.49 0.13]\n",
      " This week mean flow is  234.9\n",
      " This week mean flow is  184.9\n"
     ]
    }
   ],
   "source": [
    "import pandas as pd\n",
    "import numpy as np\n",
    "from sklearn.linear_model import LinearRegression\n",
    "import datetime\n",
    "# Get USGS streamflow data\n",
    "filepath = './streamflow_week15.txt'\n",
    "\n",
    "# Read the data into a pandas dataframe\n",
    "strfdata = pd.read_table(filepath, sep = '\\t', skiprows=30,\n",
    "        names =['agency_cd', 'site_no', 'datetime', 'flow', 'code'],\n",
    "        parse_dates=['datetime']\n",
    "        )\n",
    "strfdata.set_index('datetime', inplace=True)\n",
    "\n",
    "# %%\n",
    "# Build an autoregressive model \n",
    "W_strfdata = strfdata.resample('W').mean()\n",
    "W_strfdata['flow_tm1'] = W_strfdata['flow'].shift(1)\n",
    "W_strfdata['flow_tm2'] = W_strfdata['flow'].shift(2)\n",
    "\n",
    "# Using the entire flow data  \n",
    "train = W_strfdata[2:][['flow', 'flow_tm1', 'flow_tm2']]\n",
    "\n",
    "# Build a linear regression model\n",
    "model = LinearRegression()\n",
    "x = train[['flow_tm1', 'flow_tm2']] \n",
    "y = train['flow'].values\n",
    "model.fit(x, y)\n",
    "\n",
    "# Results of the model\n",
    "r_sq = model.score(x, y)\n",
    "print('coefficient of determination:', np.round(r_sq, 2))\n",
    "\n",
    "#print the intercept and the slope\n",
    "print('intercept:', np.round(model.intercept_, 2))\n",
    "print('slope:', np.round(model.coef_, 2))\n",
    "\n",
    "# Prediction\n",
    "prediction = model.predict(train[['flow_tm1', 'flow_tm2']])\n",
    "print(\" This week mean flow is \", round(prediction[-1], 1))\n",
    "print(\" This week mean flow is \", round(prediction[-1], 1)-50)\n"
   ]
  },
  {
   "cell_type": "code",
   "execution_count": null,
   "metadata": {},
   "outputs": [],
   "source": []
  }
 ],
 "metadata": {
  "kernelspec": {
   "display_name": "Python 3",
   "language": "python",
   "name": "python3"
  },
  "language_info": {
   "codemirror_mode": {
    "name": "ipython",
    "version": 3
   },
   "file_extension": ".py",
   "mimetype": "text/x-python",
   "name": "python",
   "nbconvert_exporter": "python",
   "pygments_lexer": "ipython3",
   "version": "3.6.5"
  }
 },
 "nbformat": 4,
 "nbformat_minor": 4
}
